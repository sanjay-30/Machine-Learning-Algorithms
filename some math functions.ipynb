{
 "cells": [
  {
   "cell_type": "code",
   "execution_count": 1,
   "id": "422b0bf4",
   "metadata": {},
   "outputs": [],
   "source": [
    "from sympy import *"
   ]
  },
  {
   "cell_type": "code",
   "execution_count": 5,
   "id": "11d9592a",
   "metadata": {},
   "outputs": [
    {
     "data": {
      "text/latex": [
       "$\\displaystyle \\int x^{x}\\, dx$"
      ],
      "text/plain": [
       "Integral(x**x, x)"
      ]
     },
     "execution_count": 5,
     "metadata": {},
     "output_type": "execute_result"
    }
   ],
   "source": [
    "Integral(x**x,x)"
   ]
  },
  {
   "cell_type": "code",
   "execution_count": 4,
   "id": "6daf9651",
   "metadata": {},
   "outputs": [
    {
     "data": {
      "text/latex": [
       "$\\displaystyle x^{2} + y^{2}$"
      ],
      "text/plain": [
       "x**2 + y**2"
      ]
     },
     "execution_count": 4,
     "metadata": {},
     "output_type": "execute_result"
    }
   ],
   "source": [
    "x=symbols('x')\n",
    "y=symbols('y')\n",
    "eq=x**2+y**2\n",
    "eq"
   ]
  },
  {
   "cell_type": "code",
   "execution_count": 28,
   "id": "aa2791df",
   "metadata": {},
   "outputs": [
    {
     "data": {
      "text/latex": [
       "$\\displaystyle \\frac{x^{3}}{3} + \\frac{x^{2}}{2} + x$"
      ],
      "text/plain": [
       "x**3/3 + x**2/2 + x"
      ]
     },
     "execution_count": 28,
     "metadata": {},
     "output_type": "execute_result"
    }
   ],
   "source": [
    "x,y = symbols('x y')\n",
    "expr=x**2 + x + 1\n",
    "integrate(expr, x)"
   ]
  },
  {
   "cell_type": "code",
   "execution_count": null,
   "id": "d1e3fa20",
   "metadata": {},
   "outputs": [],
   "source": []
  },
  {
   "cell_type": "code",
   "execution_count": 1,
   "id": "91101cd9",
   "metadata": {},
   "outputs": [],
   "source": [
    "import sympy as sym"
   ]
  },
  {
   "cell_type": "code",
   "execution_count": 2,
   "id": "bbeb4b32",
   "metadata": {},
   "outputs": [
    {
     "data": {
      "text/plain": [
       "[2.50000000000000]"
      ]
     },
     "execution_count": 2,
     "metadata": {},
     "output_type": "execute_result"
    }
   ],
   "source": [
    "x=sym.symbols('x')\n",
    "sym.solve(x+14-6*x+2-7/2,x)"
   ]
  },
  {
   "cell_type": "markdown",
   "id": "86353315",
   "metadata": {},
   "source": [
    "\n",
    "###Rishi has a total of ` 590 as currency notes in the denominations of` 50, ` 20 and ` 10. \n",
    "The ratio of the number of ` 50 notes and ` 20 notes is 3:5. \n",
    "If she has a total of 25 notes, how many notes of each denomination she has?\n",
    "\\n\n",
    "Let 50 Rs note be 3x\n",
    "20 Rs note will be 5x\n",
    "10 Rs note willbe(25-8x)\n",
    "Total denomination=590\n",
    "According to question\n",
    "50(3x)+20(5x)+10(25-8x)=590\n",
    "150x+100x-80x+250=590\n",
    "170x=340\n",
    "x=2\n",
    "50 Rs note are 3x=3*2=6\n",
    "20 Rs note are 5x=5*2=10\n",
    "10 Rs note are 25-16=9.\n"
   ]
  },
  {
   "cell_type": "code",
   "execution_count": 10,
   "id": "7e43cd4c",
   "metadata": {},
   "outputs": [
    {
     "name": "stdout",
     "output_type": "stream",
     "text": [
      "2\n",
      "50 Rs note are 6\n",
      "20 Rs note are 10\n",
      "10 Rs note are 9\n"
     ]
    }
   ],
   "source": [
    "eq=150*x+100*x+250-80*x-590\n",
    "x=sym.symbols('x')\n",
    "xv=sym.solve(eq,x)\n",
    "s=\"\"\n",
    "for i in xv:\n",
    "    s+=str(i)\n",
    "\n",
    "x=int(s)\n",
    "print(x)\n",
    "\n",
    "print(\"50 Rs note are \" + str(3*x))\n",
    "print(\"20 Rs note are \" + str(5*x))\n",
    "print(\"10 Rs note are \" + str(25-8*x))"
   ]
  },
  {
   "cell_type": "markdown",
   "id": "c088350b",
   "metadata": {},
   "source": [
    "###The organizers of an essay competition decide that a winner in the competition gets a prize of ` 100 \n",
    "###and a participant who does not win gets a prize of ` 25. The total prize money distributed is ` 3,000. \n",
    "###Find the number of winners, if the total number of participants is 63."
   ]
  },
  {
   "cell_type": "code",
   "execution_count": null,
   "id": "84a46064",
   "metadata": {},
   "outputs": [],
   "source": [
    "Let x be the number of winners.\n",
    "\n",
    "Then participants who do not win is (63 – x)\n",
    "\n",
    "The prize money given to x winners = Rs ( 100x)\n",
    "\n",
    "The prize money given to (63 – x) participants is = Rs 25(63 – x)\n",
    "\n",
    "According to the given data, the total prize money distributed = Rs 3000\n",
    "\n",
    "Therefore, 100x + 25(63 – x) = 3000"
   ]
  },
  {
   "cell_type": "code",
   "execution_count": 15,
   "id": "7b557ea0",
   "metadata": {},
   "outputs": [
    {
     "name": "stdout",
     "output_type": "stream",
     "text": [
      "19\n",
      "total no of winners are - 19\n"
     ]
    }
   ],
   "source": [
    "eq=100*x +25*(63-x)-3000\n",
    "x=sym.symbols('x')\n",
    "xv=sym.solve(eq,x)\n",
    "s=\"\"\n",
    "for i in xv:\n",
    "    s+=str(i)\n",
    "\n",
    "x=int(s)\n",
    "print(x)\n",
    "print('total no of winners are - ' + str(x))"
   ]
  },
  {
   "cell_type": "markdown",
   "id": "da07f1de",
   "metadata": {},
   "source": [
    "##The sum of three consecutive multiples of 11 is 363. Find these multiples."
   ]
  },
  {
   "cell_type": "code",
   "execution_count": null,
   "id": "14c83938",
   "metadata": {},
   "outputs": [],
   "source": [
    "11x + 11y + 11z = 363\n",
    "11x + 11(x +1) + 11(x + 2) = 363\n",
    "33x + 33 = 363\n",
    "33x = 330\n",
    "x=10\n",
    "11(10)=110, 11(10 + 1)=121 and 11(10 + 2)=132"
   ]
  },
  {
   "cell_type": "code",
   "execution_count": 25,
   "id": "1221ccd7",
   "metadata": {},
   "outputs": [
    {
     "name": "stdout",
     "output_type": "stream",
     "text": [
      "10\n",
      "1st number - 110\n",
      "2nd number - 121\n",
      "3rd number - 132\n"
     ]
    }
   ],
   "source": [
    "eq=33*x + 33-363\n",
    "x=sym.symbols('x')\n",
    "xv=sym.solve(eq,x)\n",
    "s=\"\"\n",
    "for i in xv:\n",
    "    s+=str(i)\n",
    "\n",
    "x=int(s)\n",
    "print(x)\n",
    "print('1st number - ' + str(11*x))\n",
    "print('2nd number - ' + str(11*(x+1)))\n",
    "print('3rd number - ' + str(11*(x+2)))"
   ]
  },
  {
   "cell_type": "markdown",
   "id": "d6078785",
   "metadata": {},
   "source": [
    "The digits of a two-digit number differ by 3. If the digits are interchanged,\n",
    "and the resulting number is added to the original number, we get 143. What can be the\n",
    "original number?"
   ]
  },
  {
   "cell_type": "markdown",
   "id": "61307e1d",
   "metadata": {},
   "source": [
    "let the digit be xy\n",
    "diff - x-y=3 .... (1)\n",
    "numbers are interchanged and  the resulting number is added to the original number we get 143\n",
    "10x + y + 10y + x = 143\n",
    "11x + 11y = 143\n",
    "x + y = 13  ... (2)\n",
    "\n",
    "\n"
   ]
  },
  {
   "cell_type": "code",
   "execution_count": 48,
   "id": "f6256beb",
   "metadata": {},
   "outputs": [
    {
     "name": "stdout",
     "output_type": "stream",
     "text": [
      "the original number is - 85\n"
     ]
    }
   ],
   "source": [
    "from sympy import symbols\n",
    "x, y = symbols('x y')\n",
    "eq1=x-y-3\n",
    "eq2=x+y-13\n",
    "sol=solve((eq1,eq2),(x,y))  #dict\n",
    "values=sol.values() #storing values\n",
    "values_list=list(values) #converting to list\n",
    "x=values_list[0]\n",
    "y=values_list[1]\n",
    "print(\"the original number is - \" + str(x) +str(y) )\n"
   ]
  },
  {
   "cell_type": "code",
   "execution_count": 66,
   "id": "d37b1056",
   "metadata": {},
   "outputs": [
    {
     "data": {
      "text/plain": [
       "[<matplotlib.lines.Line2D at 0x207f256a1f0>]"
      ]
     },
     "execution_count": 66,
     "metadata": {},
     "output_type": "execute_result"
    },
    {
     "data": {
      "image/png": "[encoded data removed]",
      "text/plain": [
       "<Figure size 432x288 with 1 Axes>"
      ]
     },
     "metadata": {
      "needs_background": "light"
     },
     "output_type": "display_data"
    }
   ],
   "source": [
    "import matplotlib.pyplot as plt\n",
    "import numpy as np\n",
    "\n",
    "y=np.linspace(-5,5,100)\n",
    "x=y**2\n",
    "\n",
    "plt.plot(x, y, '-r')\n",
    "plt.plot(x, 2-x,'-.g')\n",
    "\n"
   ]
  },
  {
   "cell_type": "code",
   "execution_count": 74,
   "id": "fbe88ea3",
   "metadata": {},
   "outputs": [
    {
     "name": "stderr",
     "output_type": "stream",
     "text": [
      "C:\\Users\\KIIT\\AppData\\Local\\Temp\\ipykernel_9020\\3438037489.py:5: RuntimeWarning: invalid value encountered in sqrt\n",
      "  return sqrt(x)\n",
      "C:\\Users\\KIIT\\AppData\\Local\\Temp\\ipykernel_9020\\3438037489.py:5: RuntimeWarning: invalid value encountered in sqrt\n",
      "  return sqrt(x)\n"
     ]
    },
    {
     "data": {
      "text/plain": [
       "<matplotlib.collections.PolyCollection at 0x207f28c7cd0>"
      ]
     },
     "execution_count": 74,
     "metadata": {},
     "output_type": "execute_result"
    },
    {
     "data": {
      "image/png": "[encoded data removed]",
      "text/plain": [
       "<Figure size 432x288 with 1 Axes>"
      ]
     },
     "metadata": {
      "needs_background": "light"
     },
     "output_type": "display_data"
    }
   ],
   "source": [
    "def f(x):\n",
    "    return 2-x\n",
    "\n",
    "def g(x):\n",
    "    return sqrt(x)\n",
    "\n",
    "x = np.linspace(-5,5,120)\n",
    "plt.plot(x,f(x))\n",
    "plt.plot(x,g(x))\n",
    "plt.fill_between(x, f(x), color = \"grey\",alpha = 0.3, hatch = '|')\n",
    "plt.fill_between(x, g(x), color = \"yellow\", alpha = 0.2, hatch = '-')"
   ]
  },
  {
   "cell_type": "code",
   "execution_count": 77,
   "id": "fba70d66",
   "metadata": {},
   "outputs": [
    {
     "name": "stdout",
     "output_type": "stream",
     "text": [
      "[4.00000000e-02 4.13792096e-02 4.28310019e-02 4.43605607e-02\n",
      " 4.59735411e-02 4.76761215e-02 4.94750633e-02 5.13777778e-02\n",
      " 5.33924027e-02 5.55278894e-02 5.77941026e-02 6.02019343e-02\n",
      " 6.27634349e-02 6.54919644e-02 6.84023669e-02 7.15111728e-02\n",
      " 7.48368345e-02 7.84000000e-02 8.22238351e-02 8.63344002e-02\n",
      " 9.07610960e-02 9.55371901e-02 1.00700444e-01 1.06293864e-01\n",
      " 1.12366594e-01 1.18975005e-01 1.26184005e-01 1.34068639e-01\n",
      " 1.42716049e-01 1.52227896e-01 1.62723355e-01 1.74342875e-01\n",
      " 1.87252893e-01 2.01651833e-01 2.17777778e-01 2.35918367e-01\n",
      " 2.56423721e-01 2.79723457e-01 3.06349378e-01 3.36966092e-01\n",
      " 3.72412886e-01 4.13761870e-01 4.62400000e-01 5.20146924e-01\n",
      " 5.89427680e-01 6.73531510e-01 7.77009602e-01 9.06304000e-01\n",
      " 1.07077505e+00 1.28444444e+00 1.56908587e+00 1.96000000e+00\n",
      " 2.51751111e+00 3.35171598e+00 4.68132231e+00 6.99308642e+00\n",
      " 1.15600000e+01 2.26576000e+01 6.29377778e+01 5.66440000e+02\n",
      " 5.66440000e+02 6.29377778e+01 2.26576000e+01 1.15600000e+01\n",
      " 6.99308642e+00 4.68132231e+00 3.35171598e+00 2.51751111e+00\n",
      " 1.96000000e+00 1.56908587e+00 1.28444444e+00 1.07077505e+00\n",
      " 9.06304000e-01 7.77009602e-01 6.73531510e-01 5.89427680e-01\n",
      " 5.20146924e-01 4.62400000e-01 4.13761870e-01 3.72412886e-01\n",
      " 3.36966092e-01 3.06349378e-01 2.79723457e-01 2.56423721e-01\n",
      " 2.35918367e-01 2.17777778e-01 2.01651833e-01 1.87252893e-01\n",
      " 1.74342875e-01 1.62723355e-01 1.52227896e-01 1.42716049e-01\n",
      " 1.34068639e-01 1.26184005e-01 1.18975005e-01 1.12366594e-01\n",
      " 1.06293864e-01 1.00700444e-01 9.55371901e-02 9.07610960e-02\n",
      " 8.63344002e-02 8.22238351e-02 7.84000000e-02 7.48368345e-02\n",
      " 7.15111728e-02 6.84023669e-02 6.54919644e-02 6.27634349e-02\n",
      " 6.02019343e-02 5.77941026e-02 5.55278894e-02 5.33924027e-02\n",
      " 5.13777778e-02 4.94750633e-02 4.76761215e-02 4.59735411e-02\n",
      " 4.43605607e-02 4.28310019e-02 4.13792096e-02 4.00000000e-02]\n"
     ]
    }
   ],
   "source": [
    "for i in range(2,3):\n",
    "    print(1/x**2)\n",
    "    "
   ]
  },
  {
   "cell_type": "code",
   "execution_count": 90,
   "id": "bf17ba3a",
   "metadata": {},
   "outputs": [
    {
     "name": "stdout",
     "output_type": "stream",
     "text": [
      "Derivate of f=1/x**2 = -2/x**3\n",
      "The value decreases by - -49.5\n"
     ]
    }
   ],
   "source": [
    "x=symbols('x')\n",
    "f=1/x**2\n",
    "df=f.diff(x)\n",
    "print(\"Derivate of f=1/x**2 = \" + str(df))\n",
    "\n",
    "f1 = lambdify(x, df)\n",
    "print(\"The value decreases by - \" +str(f1(2)*198) )#x=x+deltax -> 200=2+deltax -> deltax=198\n",
    "\n"
   ]
  },
  {
   "cell_type": "code",
   "execution_count": 6,
   "id": "3ea35d2e",
   "metadata": {},
   "outputs": [
    {
     "name": "stdout",
     "output_type": "stream",
     "text": [
      "Requirement already satisfied: nbconvert in c:\\users\\kiit\\anaconda3\\lib\\site-packages (6.4.4)\n",
      "Requirement already satisfied: pandocfilters>=1.4.1 in c:\\users\\kiit\\anaconda3\\lib\\site-packages (from nbconvert) (1.5.0)\n",
      "Requirement already satisfied: jupyter-core in c:\\users\\kiit\\anaconda3\\lib\\site-packages (from nbconvert) (4.9.2)\n",
      "Requirement already satisfied: defusedxml in c:\\users\\kiit\\anaconda3\\lib\\site-packages (from nbconvert) (0.7.1)\n",
      "Requirement already satisfied: jupyterlab-pygments in c:\\users\\kiit\\anaconda3\\lib\\site-packages (from nbconvert) (0.1.2)\n",
      "Requirement already satisfied: pygments>=2.4.1 in c:\\users\\kiit\\anaconda3\\lib\\site-packages (from nbconvert) (2.11.2)\n",
      "Requirement already satisfied: nbclient<0.6.0,>=0.5.0 in c:\\users\\kiit\\anaconda3\\lib\\site-packages (from nbconvert) (0.5.13)\n",
      "Requirement already satisfied: jinja2>=2.4 in c:\\users\\kiit\\anaconda3\\lib\\site-packages (from nbconvert) (2.11.3)\n",
      "Requirement already satisfied: beautifulsoup4 in c:\\users\\kiit\\anaconda3\\lib\\site-packages (from nbconvert) (4.11.1)\n",
      "Requirement already satisfied: entrypoints>=0.2.2 in c:\\users\\kiit\\anaconda3\\lib\\site-packages (from nbconvert) (0.4)\n",
      "Requirement already satisfied: nbformat>=4.4 in c:\\users\\kiit\\anaconda3\\lib\\site-packages (from nbconvert) (5.3.0)\n",
      "Requirement already satisfied: traitlets>=5.0 in c:\\users\\kiit\\anaconda3\\lib\\site-packages (from nbconvert) (5.1.1)\n",
      "Requirement already satisfied: mistune<2,>=0.8.1 in c:\\users\\kiit\\anaconda3\\lib\\site-packages (from nbconvert) (0.8.4)\n",
      "Requirement already satisfied: testpath in c:\\users\\kiit\\anaconda3\\lib\\site-packages (from nbconvert) (0.5.0)\n",
      "Requirement already satisfied: bleach in c:\\users\\kiit\\anaconda3\\lib\\site-packages (from nbconvert) (4.1.0)\n",
      "Requirement already satisfied: MarkupSafe>=0.23 in c:\\users\\kiit\\anaconda3\\lib\\site-packages (from jinja2>=2.4->nbconvert) (2.0.1)\n",
      "Requirement already satisfied: nest-asyncio in c:\\users\\kiit\\anaconda3\\lib\\site-packages (from nbclient<0.6.0,>=0.5.0->nbconvert) (1.5.5)\n",
      "Requirement already satisfied: jupyter-client>=6.1.5 in c:\\users\\kiit\\anaconda3\\lib\\site-packages (from nbclient<0.6.0,>=0.5.0->nbconvert) (6.1.12)\n",
      "Requirement already satisfied: tornado>=4.1 in c:\\users\\kiit\\anaconda3\\lib\\site-packages (from jupyter-client>=6.1.5->nbclient<0.6.0,>=0.5.0->nbconvert) (6.1)\n",
      "Requirement already satisfied: python-dateutil>=2.1 in c:\\users\\kiit\\anaconda3\\lib\\site-packages (from jupyter-client>=6.1.5->nbclient<0.6.0,>=0.5.0->nbconvert) (2.8.2)\n",
      "Requirement already satisfied: pyzmq>=13 in c:\\users\\kiit\\anaconda3\\lib\\site-packages (from jupyter-client>=6.1.5->nbclient<0.6.0,>=0.5.0->nbconvert) (22.3.0)\n",
      "Requirement already satisfied: pywin32>=1.0 in c:\\users\\kiit\\anaconda3\\lib\\site-packages (from jupyter-core->nbconvert) (302)\n",
      "Requirement already satisfied: fastjsonschema in c:\\users\\kiit\\anaconda3\\lib\\site-packages (from nbformat>=4.4->nbconvert) (2.15.1)\n",
      "Requirement already satisfied: jsonschema>=2.6 in c:\\users\\kiit\\anaconda3\\lib\\site-packages (from nbformat>=4.4->nbconvert) (4.4.0)\n",
      "Requirement already satisfied: attrs>=17.4.0 in c:\\users\\kiit\\anaconda3\\lib\\site-packages (from jsonschema>=2.6->nbformat>=4.4->nbconvert) (21.4.0)\n",
      "Requirement already satisfied: pyrsistent!=0.17.0,!=0.17.1,!=0.17.2,>=0.14.0 in c:\\users\\kiit\\anaconda3\\lib\\site-packages (from jsonschema>=2.6->nbformat>=4.4->nbconvert) (0.18.0)\n",
      "Requirement already satisfied: six>=1.5 in c:\\users\\kiit\\anaconda3\\lib\\site-packages (from python-dateutil>=2.1->jupyter-client>=6.1.5->nbclient<0.6.0,>=0.5.0->nbconvert) (1.16.0)\n",
      "Requirement already satisfied: soupsieve>1.2 in c:\\users\\kiit\\anaconda3\\lib\\site-packages (from beautifulsoup4->nbconvert) (2.3.1)\n",
      "Requirement already satisfied: webencodings in c:\\users\\kiit\\anaconda3\\lib\\site-packages (from bleach->nbconvert) (0.5.1)\n",
      "Requirement already satisfied: packaging in c:\\users\\kiit\\anaconda3\\lib\\site-packages (from bleach->nbconvert) (21.3)\n",
      "Requirement already satisfied: pyparsing!=3.0.5,>=2.0.2 in c:\\users\\kiit\\anaconda3\\lib\\site-packages (from packaging->bleach->nbconvert) (3.0.4)\n",
      "Note: you may need to restart the kernel to use updated packages.\n"
     ]
    }
   ],
   "source": [
    "pip install nbconvert\n"
   ]
  },
  {
   "cell_type": "code",
   "execution_count": 1,
   "id": "cd3bb8e4",
   "metadata": {},
   "outputs": [
    {
     "name": "stdout",
     "output_type": "stream",
     "text": [
      "-0.19739555984988078\n"
     ]
    }
   ],
   "source": [
    "import math\n",
    "print(math.atan(-0.2))"
   ]
  },
  {
   "cell_type": "code",
   "execution_count": 13,
   "id": "cb530d47",
   "metadata": {},
   "outputs": [
    {
     "ename": "TypeError",
     "evalue": "Cannot convert expression to float",
     "output_type": "error",
     "traceback": [
      "\u001b[1;31m---------------------------------------------------------------------------\u001b[0m",
      "\u001b[1;31mTypeError\u001b[0m                                 Traceback (most recent call last)",
      "Input \u001b[1;32mIn [13]\u001b[0m, in \u001b[0;36m<cell line: 6>\u001b[1;34m()\u001b[0m\n\u001b[0;32m      4\u001b[0m \u001b[38;5;28;01mfrom\u001b[39;00m \u001b[38;5;21;01msympy\u001b[39;00m \u001b[38;5;28;01mimport\u001b[39;00m symbols\n\u001b[0;32m      5\u001b[0m x\u001b[38;5;241m=\u001b[39msymbols(\u001b[38;5;124m'\u001b[39m\u001b[38;5;124mx\u001b[39m\u001b[38;5;124m'\u001b[39m)\n\u001b[1;32m----> 6\u001b[0m exp\u001b[38;5;241m=\u001b[39m\u001b[38;5;28mfloat\u001b[39m(\u001b[43mmath\u001b[49m\u001b[38;5;241;43m.\u001b[39;49m\u001b[43matan\u001b[49m\u001b[43m(\u001b[49m\u001b[43mx\u001b[49m\u001b[43m)\u001b[49m\u001b[38;5;241m*\u001b[39m(cos(x)\u001b[38;5;241m/\u001b[39m(\u001b[38;5;241m1\u001b[39m\u001b[38;5;241m-\u001b[39msin(x))))\n\u001b[0;32m      7\u001b[0m ans\u001b[38;5;241m=\u001b[39mintegrate(exp,x)\n\u001b[0;32m      8\u001b[0m \u001b[38;5;28mprint\u001b[39m(ans)\n",
      "File \u001b[1;32m~\\anaconda3\\lib\\site-packages\\sympy\\core\\expr.py:345\u001b[0m, in \u001b[0;36mExpr.__float__\u001b[1;34m(self)\u001b[0m\n\u001b[0;32m    343\u001b[0m \u001b[38;5;28;01mif\u001b[39;00m result\u001b[38;5;241m.\u001b[39mis_number \u001b[38;5;129;01mand\u001b[39;00m result\u001b[38;5;241m.\u001b[39mas_real_imag()[\u001b[38;5;241m1\u001b[39m]:\n\u001b[0;32m    344\u001b[0m     \u001b[38;5;28;01mraise\u001b[39;00m \u001b[38;5;167;01mTypeError\u001b[39;00m(\u001b[38;5;124m\"\u001b[39m\u001b[38;5;124mCannot convert complex to float\u001b[39m\u001b[38;5;124m\"\u001b[39m)\n\u001b[1;32m--> 345\u001b[0m \u001b[38;5;28;01mraise\u001b[39;00m \u001b[38;5;167;01mTypeError\u001b[39;00m(\u001b[38;5;124m\"\u001b[39m\u001b[38;5;124mCannot convert expression to float\u001b[39m\u001b[38;5;124m\"\u001b[39m)\n",
      "\u001b[1;31mTypeError\u001b[0m: Cannot convert expression to float"
     ]
    }
   ],
   "source": [
    "#x,y = symbols('x y')\n",
    "#expr=x**2 + x + 1\n",
    "#integrate(expr, x)\n",
    "from sympy import symbols\n",
    "x=symbols('x')\n",
    "exp=float(math.atan(x)*(cos(x)/(1-sin(x))))\n",
    "ans=integrate(exp,x)\n",
    "print(ans)"
   ]
  },
  {
   "cell_type": "code",
   "execution_count": 17,
   "id": "c381a2c4",
   "metadata": {},
   "outputs": [
    {
     "name": "stdout",
     "output_type": "stream",
     "text": [
      "Solutions:\n",
      " [10. 20.  3.]\n"
     ]
    }
   ],
   "source": [
    "import scipy.linalg as linalg \n",
    "A = np.array([[10, 5, 4],\n",
    " [20, 30, 40],\n",
    " [40, 10, 70]]) \n",
    "\n",
    "\n",
    "B = np.array([212,920,810]) \n",
    "print(\"Solutions:\\n\",np.linalg.solve(A, B ) )"
   ]
  },
  {
   "cell_type": "code",
   "execution_count": 18,
   "id": "f6041133",
   "metadata": {},
   "outputs": [
    {
     "name": "stdout",
     "output_type": "stream",
     "text": [
      "Inverse sine: [-1.57079633  0.          1.57079633]\n",
      "Inverse cosine: [3.14159265 1.57079633 0.        ]\n",
      "Inverse tangent: [-0.78539816  0.          0.78539816]\n"
     ]
    }
   ],
   "source": [
    "import numpy as np\n",
    "x = np.array([-1., 0, 1.])\n",
    "print(\"Inverse sine:\", np.arcsin(x))\n",
    "print(\"Inverse cosine:\", np.arccos(x))\n",
    "print(\"Inverse tangent:\", np.arctan(x))\n"
   ]
  },
  {
   "cell_type": "code",
   "execution_count": null,
   "id": "34f7e72e",
   "metadata": {},
   "outputs": [],
   "source": []
  }
 ],
 "metadata": {
  "kernelspec": {
   "display_name": "Python 3 (ipykernel)",
   "language": "python",
   "name": "python3"
  },
  "language_info": {
   "codemirror_mode": {
    "name": "ipython",
    "version": 3
   },
   "file_extension": ".py",
   "mimetype": "text/x-python",
   "name": "python",
   "nbconvert_exporter": "python",
   "pygments_lexer": "ipython3",
   "version": "3.9.12"
  }
 },
 "nbformat": 4,
 "nbformat_minor": 5
}
